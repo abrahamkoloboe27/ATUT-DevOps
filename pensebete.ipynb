{
 "cells": [
  {
   "cell_type": "code",
   "execution_count": 2,
   "metadata": {},
   "outputs": [
    {
     "name": "stdout",
     "output_type": "stream",
     "text": [
      "Requirement already satisfied: minio in /opt/anaconda3/lib/python3.12/site-packages (7.2.8)\n",
      "Requirement already satisfied: certifi in /opt/anaconda3/lib/python3.12/site-packages (from minio) (2024.7.4)\n",
      "Requirement already satisfied: urllib3 in /opt/anaconda3/lib/python3.12/site-packages (from minio) (1.26.19)\n",
      "Requirement already satisfied: argon2-cffi in /opt/anaconda3/lib/python3.12/site-packages (from minio) (21.3.0)\n",
      "Requirement already satisfied: pycryptodome in /opt/anaconda3/lib/python3.12/site-packages (from minio) (3.20.0)\n",
      "Requirement already satisfied: typing-extensions in /opt/anaconda3/lib/python3.12/site-packages (from minio) (4.12.2)\n",
      "Requirement already satisfied: argon2-cffi-bindings in /opt/anaconda3/lib/python3.12/site-packages (from argon2-cffi->minio) (21.2.0)\n",
      "Requirement already satisfied: cffi>=1.0.1 in /opt/anaconda3/lib/python3.12/site-packages (from argon2-cffi-bindings->argon2-cffi->minio) (1.17.0)\n",
      "Requirement already satisfied: pycparser in /opt/anaconda3/lib/python3.12/site-packages (from cffi>=1.0.1->argon2-cffi-bindings->argon2-cffi->minio) (2.22)\n"
     ]
    }
   ],
   "source": [
    "! pip install minio"
   ]
  },
  {
   "cell_type": "code",
   "execution_count": 1,
   "metadata": {},
   "outputs": [],
   "source": [
    "import os\n",
    "from minio import Minio\n"
   ]
  },
  {
   "cell_type": "code",
   "execution_count": 2,
   "metadata": {},
   "outputs": [
    {
     "name": "stdout",
     "output_type": "stream",
     "text": [
      "https://group-1.s3.fr-par.scw.cloud SCWSQJSVNBBD8C2GSQHR 3f97786e-9b5f-479c-bc9e-cd03dc4ab27b fr-par\n"
     ]
    }
   ],
   "source": [
    "from dotenv import load_dotenv\n",
    "load_dotenv()\n",
    "endpoint = os.getenv(\"S3_ENDPOINT_URL\")\n",
    "access_key = os.getenv(\"S3_ACCESS_KEY\")\n",
    "secret_key = os.getenv(\"S3_SECRET_KEY\")\n",
    "region = os.getenv(\"S3_REGION\")\n",
    "print(endpoint, \n",
    "      \n",
    "      access_key, \n",
    "      secret_key, \n",
    "      region)\n",
    "\n"
   ]
  },
  {
   "cell_type": "code",
   "execution_count": 3,
   "metadata": {},
   "outputs": [
    {
     "ename": "ValueError",
     "evalue": "path in endpoint is not allowed",
     "output_type": "error",
     "traceback": [
      "\u001b[0;31m---------------------------------------------------------------------------\u001b[0m",
      "\u001b[0;31mValueError\u001b[0m                                Traceback (most recent call last)",
      "Cell \u001b[0;32mIn[3], line 1\u001b[0m\n\u001b[0;32m----> 1\u001b[0m s3_client \u001b[38;5;241m=\u001b[39m Minio(  \n\u001b[1;32m      2\u001b[0m                   endpoint\u001b[38;5;241m=\u001b[39m  endpoint,\n\u001b[1;32m      3\u001b[0m                     access_key\u001b[38;5;241m=\u001b[39maccess_key,\n\u001b[1;32m      4\u001b[0m                     secret_key\u001b[38;5;241m=\u001b[39msecret_key,\n\u001b[1;32m      5\u001b[0m                     region\u001b[38;5;241m=\u001b[39mregion,\n\u001b[1;32m      6\u001b[0m                     )\n",
      "File \u001b[0;32m/opt/anaconda3/lib/python3.12/site-packages/minio/api.py:152\u001b[0m, in \u001b[0;36mMinio.__init__\u001b[0;34m(self, endpoint, access_key, secret_key, session_token, secure, region, http_client, credentials, cert_check)\u001b[0m\n\u001b[1;32m    147\u001b[0m     \u001b[38;5;28;01mraise\u001b[39;00m \u001b[38;5;167;01mValueError\u001b[39;00m(\n\u001b[1;32m    148\u001b[0m         \u001b[38;5;124m\"\u001b[39m\u001b[38;5;124mHTTP client should be instance of `urllib3.PoolManager`\u001b[39m\u001b[38;5;124m\"\u001b[39m\n\u001b[1;32m    149\u001b[0m     )\n\u001b[1;32m    151\u001b[0m \u001b[38;5;28mself\u001b[39m\u001b[38;5;241m.\u001b[39m_region_map \u001b[38;5;241m=\u001b[39m {}\n\u001b[0;32m--> 152\u001b[0m \u001b[38;5;28mself\u001b[39m\u001b[38;5;241m.\u001b[39m_base_url \u001b[38;5;241m=\u001b[39m BaseURL(\n\u001b[1;32m    153\u001b[0m     (\u001b[38;5;124m\"\u001b[39m\u001b[38;5;124mhttps://\u001b[39m\u001b[38;5;124m\"\u001b[39m \u001b[38;5;28;01mif\u001b[39;00m secure \u001b[38;5;28;01melse\u001b[39;00m \u001b[38;5;124m\"\u001b[39m\u001b[38;5;124mhttp://\u001b[39m\u001b[38;5;124m\"\u001b[39m) \u001b[38;5;241m+\u001b[39m endpoint,\n\u001b[1;32m    154\u001b[0m     region,\n\u001b[1;32m    155\u001b[0m )\n\u001b[1;32m    156\u001b[0m \u001b[38;5;28mself\u001b[39m\u001b[38;5;241m.\u001b[39m_user_agent \u001b[38;5;241m=\u001b[39m _DEFAULT_USER_AGENT\n\u001b[1;32m    157\u001b[0m \u001b[38;5;28mself\u001b[39m\u001b[38;5;241m.\u001b[39m_trace_stream \u001b[38;5;241m=\u001b[39m \u001b[38;5;28;01mNone\u001b[39;00m\n",
      "File \u001b[0;32m/opt/anaconda3/lib/python3.12/site-packages/minio/helpers.py:551\u001b[0m, in \u001b[0;36mBaseURL.__init__\u001b[0;34m(self, endpoint, region)\u001b[0m\n\u001b[1;32m    550\u001b[0m \u001b[38;5;28;01mdef\u001b[39;00m \u001b[38;5;21m__init__\u001b[39m(\u001b[38;5;28mself\u001b[39m, endpoint: \u001b[38;5;28mstr\u001b[39m, region: \u001b[38;5;28mstr\u001b[39m \u001b[38;5;241m|\u001b[39m \u001b[38;5;28;01mNone\u001b[39;00m):\n\u001b[0;32m--> 551\u001b[0m     url \u001b[38;5;241m=\u001b[39m _parse_url(endpoint)\n\u001b[1;32m    553\u001b[0m     \u001b[38;5;28;01mif\u001b[39;00m region \u001b[38;5;129;01mand\u001b[39;00m \u001b[38;5;129;01mnot\u001b[39;00m _REGION_REGEX\u001b[38;5;241m.\u001b[39mmatch(region):\n\u001b[1;32m    554\u001b[0m         \u001b[38;5;28;01mraise\u001b[39;00m \u001b[38;5;167;01mValueError\u001b[39;00m(\u001b[38;5;124mf\u001b[39m\u001b[38;5;124m\"\u001b[39m\u001b[38;5;124minvalid region \u001b[39m\u001b[38;5;132;01m{\u001b[39;00mregion\u001b[38;5;132;01m}\u001b[39;00m\u001b[38;5;124m\"\u001b[39m)\n",
      "File \u001b[0;32m/opt/anaconda3/lib/python3.12/site-packages/minio/helpers.py:512\u001b[0m, in \u001b[0;36m_parse_url\u001b[0;34m(endpoint)\u001b[0m\n\u001b[1;32m    509\u001b[0m url \u001b[38;5;241m=\u001b[39m url_replace(url, scheme\u001b[38;5;241m=\u001b[39murl\u001b[38;5;241m.\u001b[39mscheme\u001b[38;5;241m.\u001b[39mlower())\n\u001b[1;32m    511\u001b[0m \u001b[38;5;28;01mif\u001b[39;00m url\u001b[38;5;241m.\u001b[39mpath \u001b[38;5;129;01mand\u001b[39;00m url\u001b[38;5;241m.\u001b[39mpath \u001b[38;5;241m!=\u001b[39m \u001b[38;5;124m\"\u001b[39m\u001b[38;5;124m/\u001b[39m\u001b[38;5;124m\"\u001b[39m:\n\u001b[0;32m--> 512\u001b[0m     \u001b[38;5;28;01mraise\u001b[39;00m \u001b[38;5;167;01mValueError\u001b[39;00m(\u001b[38;5;124m\"\u001b[39m\u001b[38;5;124mpath in endpoint is not allowed\u001b[39m\u001b[38;5;124m\"\u001b[39m)\n\u001b[1;32m    514\u001b[0m url \u001b[38;5;241m=\u001b[39m url_replace(url, path\u001b[38;5;241m=\u001b[39m\u001b[38;5;124m\"\u001b[39m\u001b[38;5;124m\"\u001b[39m)\n\u001b[1;32m    516\u001b[0m \u001b[38;5;28;01mif\u001b[39;00m url\u001b[38;5;241m.\u001b[39mquery:\n",
      "\u001b[0;31mValueError\u001b[0m: path in endpoint is not allowed"
     ]
    }
   ],
   "source": [
    "s3_client = Minio(  \n",
    "                  endpoint=  endpoint,\n",
    "                    access_key=access_key,\n",
    "                    secret_key=secret_key,\n",
    "                    region=region,\n",
    "                    )"
   ]
  },
  {
   "cell_type": "code",
   "execution_count": null,
   "metadata": {},
   "outputs": [],
   "source": []
  }
 ],
 "metadata": {
  "kernelspec": {
   "display_name": "base",
   "language": "python",
   "name": "python3"
  },
  "language_info": {
   "codemirror_mode": {
    "name": "ipython",
    "version": 3
   },
   "file_extension": ".py",
   "mimetype": "text/x-python",
   "name": "python",
   "nbconvert_exporter": "python",
   "pygments_lexer": "ipython3",
   "version": "3.12.4"
  }
 },
 "nbformat": 4,
 "nbformat_minor": 2
}
